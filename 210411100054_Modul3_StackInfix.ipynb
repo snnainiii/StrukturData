{
  "nbformat": 4,
  "nbformat_minor": 0,
  "metadata": {
    "colab": {
      "provenance": []
    },
    "kernelspec": {
      "name": "python3",
      "display_name": "Python 3"
    },
    "language_info": {
      "name": "python"
    }
  },
  "cells": [
    {
      "cell_type": "markdown",
      "source": [
        "**NAMA : SITI NUR AINI**\n",
        "\n",
        "**NIM : 210411100054**\n",
        "\n",
        "**MODUL 3 -  Ekspressi Aritmatika Infix, Prefix, Postfix**"
      ],
      "metadata": {
        "id": "PkLtKopwiYNC"
      }
    },
    {
      "cell_type": "markdown",
      "source": [
        "### **1 Konsep**\n",
        "\n",
        "Tulis ringkasan atau penjelasan hal-hal berikut, dengan kata-kata kalian sendiri mengenai, Ekspressi Arit\u0002matika Infix, Prefix, dan Postfix. HashtagVideo : Modul3 StackInfix dan PraktikumStrukturData Kelas"
      ],
      "metadata": {
        "id": "CFyYUKayimWP"
      }
    },
    {
      "cell_type": "markdown",
      "source": [
        "#### **1_Konsep**\n",
        "\n",
        "**- Infix** adalah cara penulisan operasi aritmatika dengan meletakkan operator di antara 2 operand, dalam hal ini pemakaian tanda kurung sangat menentukan hasil operasi.\n",
        "\n",
        "**infix = operand operator operand**\n",
        "\n",
        "Contoh :  A+B, A+B-C, (A+B)*(C-D).\n",
        "\n",
        "**- Prefix** adalah cara penullisan operasi aritmatika dengan meletakkan operator di depan operand dan tanpa menuliskan tanda kurung.\n",
        "\n",
        "**prefix = operator operand operand**\n",
        "\n",
        "Contoh :  +AB, – +ABC, * + AB – CD.\n",
        "\n",
        "**- Postfix** adalah cara penulisan operasi aritmatika dengan meletakkan operator setelah operand dan tanpa menuliskan tanda kurung.\n",
        "\n",
        "**postfix = operand operand operator**\n",
        "\n",
        "Contoh : AB+, AB+C-, AB+ CD- *\n",
        "\n",
        "\n",
        "\n",
        "\n"
      ],
      "metadata": {
        "id": "STvj0sm2HuEY"
      }
    },
    {
      "cell_type": "markdown",
      "source": [
        "### **2 Implementasi**\n"
      ],
      "metadata": {
        "id": "LecxtHWQiv-S"
      }
    },
    {
      "cell_type": "markdown",
      "source": [
        "#### **2.1 Konversi Infix ke Postfix**\n",
        "Buatlah Fungsi dan code yang diperlukan untuk mengkonversi ekspressi aritmatika infix menjadi ekspresi\n",
        "aritmatika postfix, dengan menggunakan struktur data stack, dengan output seperti yang ditunjukkan pada\n",
        "Gambar 1 (terdapat visualisasi token yang dibaca dan isi dari stack).\n",
        "HashtagVideo : Modul3 InfixPostFixStack dan PraktikumStrukturData KelasX"
      ],
      "metadata": {
        "id": "j0mJKAjli71M"
      }
    },
    {
      "cell_type": "markdown",
      "source": [
        "#### **Implementasi 1**"
      ],
      "metadata": {
        "id": "rkgOR_8YPQ5H"
      }
    },
    {
      "cell_type": "code",
      "source": [
        "def stack():\n",
        " s=[]\n",
        " return (s)\n",
        "def push(s,data):\n",
        " s.append(data)\n",
        "def pop(s):\n",
        " data=s.pop()\n",
        " return(data)\n",
        "def peek(s):\n",
        " return(s[len(s)-1])\n",
        "def isEmpty(s):\n",
        " return (s==[])\n",
        "def size(s):\n",
        " return(len(s))\n"
      ],
      "metadata": {
        "id": "MsnkejP5zmqF"
      },
      "execution_count": null,
      "outputs": []
    },
    {
      "cell_type": "code",
      "source": [
        "def createStack():\n",
        " s=[]\n",
        " return (s)\n",
        "def push(s,data):\n",
        " s.append(data)\n",
        "def pop(s):\n",
        " data=s.pop()\n",
        " return(data)\n",
        "def peek(s):\n",
        " return(s[len(s)-1])\n",
        "def isEmpty(s):\n",
        " return (s==[])\n",
        "def size(s):\n",
        " return(len(s))\n",
        "\n",
        "def infixtoPostfix(data):\n",
        "  kurungBuka = [\"(\", \"{\", \"[\"]\n",
        "  kurungtutup = [\")\", \"}\", \"]\"]\n",
        "  operator = [\"-\", \"+\", \"*\", \"^\", \"/\"]\n",
        "  prioritas = {}\n",
        "  prioritas[\"*\"] = 3\n",
        "  prioritas[\"/\"] = 3\n",
        "  prioritas[\"+\"] = 2\n",
        "  prioritas[\"-\"] = 2\n",
        "  prioritas[\"(\"] = 1\n",
        "  prioritas[\"[\"] = 1\n",
        "  prioritas[\"{\"] = 1\n",
        "\n",
        "  tumpukan = createStack()\n",
        "  hasil = \"\"\n",
        "  i = 1\n",
        "  for token in data:\n",
        "      print(\"read token-\" +str(i), \":\" ,token)\n",
        "      if token in \"ABCDEFGHIJKLMNOPQRSTUVWXYZ\" or token in \"abcdefghijklmnopqrstuvwxyz\" or token in \"0123456789\" :\n",
        "          hasil += token\n",
        "      elif token in kurungBuka:\n",
        "          push(tumpukan, token)\n",
        "      elif token in kurungtutup:\n",
        "          topToken = pop(tumpukan)\n",
        "          while topToken not in kurungBuka:\n",
        "              hasil += topToken\n",
        "              topToken = pop(tumpukan)\n",
        "      else:\n",
        "          while (not isEmpty(tumpukan)) and (prioritas[peek(tumpukan)] >= prioritas[token]):\n",
        "              hasil += pop(tumpukan)\n",
        "          push(tumpukan,token)\n",
        "      print(\"stack :\", tumpukan)\n",
        "      print(\"\")\n",
        "      i += 1\n",
        "  while not isEmpty(tumpukan):\n",
        "      hasil += pop(tumpukan)\n",
        "  return hasil"
      ],
      "metadata": {
        "id": "oMkUyeBZj_xt"
      },
      "execution_count": null,
      "outputs": []
    },
    {
      "cell_type": "code",
      "source": [
        "print ('((a+b)*(c-d))/f : ',infixtoPostfix('((a+b)*(c-d))/f'))"
      ],
      "metadata": {
        "colab": {
          "base_uri": "https://localhost:8080/"
        },
        "id": "g_8yTub_m0SD",
        "outputId": "32ddee3a-7f46-4713-96da-b2ab8bb50702"
      },
      "execution_count": null,
      "outputs": [
        {
          "output_type": "stream",
          "name": "stdout",
          "text": [
            "read token-1 : (\n",
            "stack : ['(']\n",
            "\n",
            "read token-2 : (\n",
            "stack : ['(', '(']\n",
            "\n",
            "read token-3 : a\n",
            "stack : ['(', '(']\n",
            "\n",
            "read token-4 : +\n",
            "stack : ['(', '(', '+']\n",
            "\n",
            "read token-5 : b\n",
            "stack : ['(', '(', '+']\n",
            "\n",
            "read token-6 : )\n",
            "stack : ['(']\n",
            "\n",
            "read token-7 : *\n",
            "stack : ['(', '*']\n",
            "\n",
            "read token-8 : (\n",
            "stack : ['(', '*', '(']\n",
            "\n",
            "read token-9 : c\n",
            "stack : ['(', '*', '(']\n",
            "\n",
            "read token-10 : -\n",
            "stack : ['(', '*', '(', '-']\n",
            "\n",
            "read token-11 : d\n",
            "stack : ['(', '*', '(', '-']\n",
            "\n",
            "read token-12 : )\n",
            "stack : ['(', '*']\n",
            "\n",
            "read token-13 : )\n",
            "stack : []\n",
            "\n",
            "read token-14 : /\n",
            "stack : ['/']\n",
            "\n",
            "read token-15 : f\n",
            "stack : ['/']\n",
            "\n",
            "((a+b)*(c-d))/f :  ab+cd-*f/\n"
          ]
        }
      ]
    },
    {
      "cell_type": "code",
      "source": [
        "print ('a+b*c/d-f+g*h : ',infixtoPostfix('a+b*c/d-f+g*h'))"
      ],
      "metadata": {
        "colab": {
          "base_uri": "https://localhost:8080/"
        },
        "id": "QfnrJIxInLu6",
        "outputId": "6f4951b6-0f21-4aaa-916f-180913ee2807"
      },
      "execution_count": null,
      "outputs": [
        {
          "output_type": "stream",
          "name": "stdout",
          "text": [
            "read token-1 : a\n",
            "stack : []\n",
            "\n",
            "read token-2 : +\n",
            "stack : ['+']\n",
            "\n",
            "read token-3 : b\n",
            "stack : ['+']\n",
            "\n",
            "read token-4 : *\n",
            "stack : ['+', '*']\n",
            "\n",
            "read token-5 : c\n",
            "stack : ['+', '*']\n",
            "\n",
            "read token-6 : /\n",
            "stack : ['+', '/']\n",
            "\n",
            "read token-7 : d\n",
            "stack : ['+', '/']\n",
            "\n",
            "read token-8 : -\n",
            "stack : ['-']\n",
            "\n",
            "read token-9 : f\n",
            "stack : ['-']\n",
            "\n",
            "read token-10 : +\n",
            "stack : ['+']\n",
            "\n",
            "read token-11 : g\n",
            "stack : ['+']\n",
            "\n",
            "read token-12 : *\n",
            "stack : ['+', '*']\n",
            "\n",
            "read token-13 : h\n",
            "stack : ['+', '*']\n",
            "\n",
            "a+b*c/d-f+g*h :  abc*d/+f-gh*+\n"
          ]
        }
      ]
    },
    {
      "cell_type": "code",
      "source": [
        "print ('(A*(B+C))-D : ',infixtoPostfix('(A*(B+C))-D'))"
      ],
      "metadata": {
        "colab": {
          "base_uri": "https://localhost:8080/"
        },
        "id": "wCjUmdBpnuPi",
        "outputId": "9c749b31-fe34-47d9-d783-f9d3c664f6c2"
      },
      "execution_count": null,
      "outputs": [
        {
          "output_type": "stream",
          "name": "stdout",
          "text": [
            "read token-1 : (\n",
            "stack : ['(']\n",
            "\n",
            "read token-2 : A\n",
            "stack : ['(']\n",
            "\n",
            "read token-3 : *\n",
            "stack : ['(', '*']\n",
            "\n",
            "read token-4 : (\n",
            "stack : ['(', '*', '(']\n",
            "\n",
            "read token-5 : B\n",
            "stack : ['(', '*', '(']\n",
            "\n",
            "read token-6 : +\n",
            "stack : ['(', '*', '(', '+']\n",
            "\n",
            "read token-7 : C\n",
            "stack : ['(', '*', '(', '+']\n",
            "\n",
            "read token-8 : )\n",
            "stack : ['(', '*']\n",
            "\n",
            "read token-9 : )\n",
            "stack : []\n",
            "\n",
            "read token-10 : -\n",
            "stack : ['-']\n",
            "\n",
            "read token-11 : D\n",
            "stack : ['-']\n",
            "\n",
            "(A*(B+C))-D :  ABC+*D-\n"
          ]
        }
      ]
    },
    {
      "cell_type": "markdown",
      "source": [
        "#### **2.2 Evaluasi Postfix**\n",
        "Buatlah Fungsi dan code yang diperlukan untuk evaluasi ekspresi aritmatika postfix, dengan menggunakan\n",
        "struktur data stack, dengan output seperti yang ditunjukkan pada Gambar 2 (terdapat visualisasi operasi\n",
        "matematika yang dikerjakan tiap tahap).\n",
        "HashtagVideo : Modul3 PostFixStack dan PraktikumStrukturData KelasX\n"
      ],
      "metadata": {
        "id": "P37pBP_3i9jV"
      }
    },
    {
      "cell_type": "markdown",
      "source": [
        "#### **Implementasi 2**"
      ],
      "metadata": {
        "id": "RKFPmMh_P2ln"
      }
    },
    {
      "cell_type": "code",
      "source": [
        "def createStack():\n",
        " s = []\n",
        " return (s)\n",
        "def push(s,data):\n",
        " s.append(data)\n",
        "def pop(s):\n",
        " data=s.pop()\n",
        " return(data)\n",
        "def peek(s):\n",
        " return(s[len(s)-1])\n",
        "def isEmpty(s):\n",
        " return (s==[])\n",
        "def size(s):\n",
        " return(len(s))\n",
        "\n",
        "def evaluasiPostfix(hasil):\n",
        "  hasil = hasil.split()\n",
        "  tumpukan = createStack()\n",
        "  operator = [\"+\", \"-\", \"*\", \"/\"]\n",
        "  y = 0\n",
        "  for i in hasil:\n",
        "    if i not in operator:\n",
        "        push(tumpukan, i)\n",
        "    else :\n",
        "        y += 1\n",
        "        a = float(pop(tumpukan))\n",
        "        b = float(pop(tumpukan))\n",
        "        if i == \"+\":\n",
        "            hasil = b + a\n",
        "            push(tumpukan, hasil)\n",
        "        elif i == \"-\":\n",
        "            hasil = b - a\n",
        "            push(tumpukan, hasil)\n",
        "        elif i == \"*\":\n",
        "            hasil = b * a\n",
        "            push(tumpukan, hasil)\n",
        "        else :\n",
        "            hasil = b / a\n",
        "            push(tumpukan, hasil)\n",
        "        print([y], \":\", b , i, a, \"=\", hasil)\n",
        "  return pop(tumpukan)"
      ],
      "metadata": {
        "id": "Du09X8r46iQs"
      },
      "execution_count": null,
      "outputs": []
    },
    {
      "cell_type": "code",
      "source": [
        "print(evaluasiPostfix(\"2 6 +\"))"
      ],
      "metadata": {
        "colab": {
          "base_uri": "https://localhost:8080/"
        },
        "id": "oX7q-fh7mFmE",
        "outputId": "d06955d1-777a-4cd6-fe21-40ea4e04fba2"
      },
      "execution_count": null,
      "outputs": [
        {
          "output_type": "stream",
          "name": "stdout",
          "text": [
            "[1] : 2.0 + 6.0 = 8.0\n",
            "8.0\n"
          ]
        }
      ]
    },
    {
      "cell_type": "code",
      "source": [
        "print(evaluasiPostfix(\"10 2 3 + * 4 -\"))"
      ],
      "metadata": {
        "colab": {
          "base_uri": "https://localhost:8080/"
        },
        "id": "ASmbzVh-l-Wb",
        "outputId": "81838188-ae6c-4a90-8130-391b7de0acfd"
      },
      "execution_count": null,
      "outputs": [
        {
          "output_type": "stream",
          "name": "stdout",
          "text": [
            "[1] : 2.0 + 3.0 = 5.0\n",
            "[2] : 10.0 * 5.0 = 50.0\n",
            "[3] : 50.0 - 4.0 = 46.0\n",
            "46.0\n"
          ]
        }
      ]
    },
    {
      "cell_type": "code",
      "source": [
        "print(evaluasiPostfix(\"2 3 4 * 10 / + 11 - 9 2 * +\"))"
      ],
      "metadata": {
        "colab": {
          "base_uri": "https://localhost:8080/"
        },
        "id": "ciW3TkUAlTXN",
        "outputId": "4b235d59-888c-4996-dfc9-ca1722ad278c"
      },
      "execution_count": null,
      "outputs": [
        {
          "output_type": "stream",
          "name": "stdout",
          "text": [
            "[1] : 3.0 * 4.0 = 12.0\n",
            "[2] : 12.0 / 10.0 = 1.2\n",
            "[3] : 2.0 + 1.2 = 3.2\n",
            "[4] : 3.2 - 11.0 = -7.8\n",
            "[5] : 9.0 * 2.0 = 18.0\n",
            "[6] : -7.8 + 18.0 = 10.2\n",
            "10.2\n"
          ]
        }
      ]
    }
  ]
}