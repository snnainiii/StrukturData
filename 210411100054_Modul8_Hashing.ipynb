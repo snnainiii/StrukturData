{
  "nbformat": 4,
  "nbformat_minor": 0,
  "metadata": {
    "colab": {
      "provenance": []
    },
    "kernelspec": {
      "name": "python3",
      "display_name": "Python 3"
    },
    "language_info": {
      "name": "python"
    }
  },
  "cells": [
    {
      "cell_type": "markdown",
      "source": [
        "**NAMA : SITI NUR AINI**\n",
        "\n",
        "**NIM : 210411100054**\n",
        "\n",
        "**MODUL 8 - HASHING**"
      ],
      "metadata": {
        "id": "tD7qoudfkObc"
      }
    },
    {
      "cell_type": "markdown",
      "source": [
        "## **1 Konsep**"
      ],
      "metadata": {
        "id": "xVSmqdNdkZCi"
      }
    },
    {
      "cell_type": "markdown",
      "source": [
        "Jelaskan pencarian dengan menggunakan konsep Hashing, antara lain :\n",
        "*  Table Hash, Slot\n",
        "*  Fungsi Hash - Nilai Hash\n",
        "*  Pencarian dengan konsep Hashing\n",
        "*  Collusion\n",
        "\n",
        "HashtagVideo : Modul8 Hashing dan PraktikumStrukturData KelasX\n"
      ],
      "metadata": {
        "id": "gcYtEn-6kdkG"
      }
    },
    {
      "cell_type": "markdown",
      "source": [
        "### **Konsep 1**"
      ],
      "metadata": {
        "id": "USwrkHR-knd_"
      }
    },
    {
      "cell_type": "markdown",
      "source": [
        "\n",
        "**Hash Table dan Slot**\n",
        "\n",
        "*  **Hash Table** yaitu kumpulan dari beberapa slot yang digunakan sebagai tempat penyimpanan data, yang dibuat sedemikian rupa, sehingga dapat memudahkan pencarian. Tipe data list di python dapat digunakan untuk merepresentasikan hash table\n",
        "*  **Slot** yaitu posisi (indeks) yang terdapat pada hash table sebagai tempat penyimpanan setiap data. Karena slot berfungsi seperti halnya indeks, maka nilai slot adalah nilai integer mulai\n",
        "dari nol sampai dengan ukurang dari hash table, misalkan slot 0, slot 1, slot 2, .... , slot .\n",
        "\n",
        "**Fungsi Hash - Nilai Hash**\n",
        "\n",
        "* **Fungsi Hash** adalah suatu fungsi yang memetakan antara data dengan slot di dalam hash table. fungsi ini digunakan untuk mendapatkan sebuah kode menampatkan data pada slot yang lokasi penyimpanannya tergantung dari nilai hash\n",
        "\n",
        "*  **NIlai Hash**, cara mendapatkan nilai hash yaitu dengan memoduluskan data dengan panjang dari hash table dan hasil modulus adalah kode has untuk dan tempat data disimpan\n",
        "\n",
        "**Pencarian Dengan Konsep Hashing**\n",
        "\n",
        "Pencarian Dengan Konsep Hashing adalah pencarian data dengan fungsi hash dimana data dimodulus dengan panjang dari hash table (nilai hash) dan dibandingkan antara data yang ada di slot tersebut dengan data yang dicari\n",
        "\n",
        "**Collusion**\n",
        "\n",
        "Collusion adalah kejadian yang tidak bisa dihindari dimana terdapat beberapa data yang harus mengisi slot yang sama sedangkan slot hanya bisa diisi oleh 1 data saja, sehingga perlu penanganan collusion. Terdapat beberapa cara menangani collusion yaitu:\n",
        "\n",
        "1. **Linear probing**, adalah teknik penanganan collusion dengan mancari slot kosong dengan cara mengecek ke setiap slot secara bertahap dimulai dari tempat slot terjadi collusion\n",
        "\n",
        "2. **Quadratic Probing**, adalah teknik penanganan collusion yang hampir sama dengan linear probing, hanya saja pengecekannya tidak satu persatu melainkan quadratic\n",
        "\n",
        "3. **Chaining**, adalah teknik penanganan collusion yang dilakukan dengan cara menempelkan data yang seharusnya berada di slot yang sama di slot tersebut namun disimpan dalam bentuk berantai\n",
        "\n",
        "\n",
        "\n",
        "\n",
        "\n"
      ],
      "metadata": {
        "id": "unD8-VNpktiD"
      }
    },
    {
      "cell_type": "markdown",
      "source": [
        "## **2 Implementasi**"
      ],
      "metadata": {
        "id": "FmeklApCdDg1"
      }
    },
    {
      "cell_type": "markdown",
      "source": [
        "### **2.1 Hashing**\n",
        "\n",
        "Buatlah code untuk mengimplementasikan algoritma pencarian dengan konsep Hashing, dengan ketentuan\n",
        "sebagai berikut :\n",
        "*  data digenerate secara random sebanyak 500 data (Hint : gunakan modul random yang sudah disediakan python)\n",
        "*  generate data sedemikian hingga, kemungkinan data yang sama adalah kecil\n",
        "Gunakan penanganan collusion dengan menggunakan chaining. Contoh output yang dihasilkan dapat\n",
        "dilihat pada Gambar 1\n",
        "\n",
        "HashtagVideo : Modul8 ImplementasiHashing dan PraktikumStrukturData KelasX"
      ],
      "metadata": {
        "id": "32b_TvQ7dH89"
      }
    },
    {
      "cell_type": "code",
      "source": [
        "# mengimport function randrange\n",
        "from random import randint\n",
        "\n",
        "# mengenerate bil bulat 1 s/d 500\n",
        "def generate(akhir):\n",
        "  listData = []\n",
        "  for i in range(500):\n",
        "    listData.append(randint(6000,akhir))\n",
        "  return listData\n",
        "\n",
        "# menentukan index\n",
        "def remainderFunction(data,num):\n",
        "  return (data%num)\n",
        "\n",
        "# membuat hash table, dengan inisialisasi semua slot berisi 'none'\n",
        "def createHashTable(num):\n",
        "  temp = []\n",
        "  for i in range(num):\n",
        "    temp.append(['none'])\n",
        "  return(temp)\n",
        "\n",
        "# menyusun data ke dalam hash table\n",
        "def putData(data,table):\n",
        "  for i in range(len(data)):\n",
        "    ind = remainderFunction(data[i], len(table))\n",
        "    if table[ind][0] == 'none':\n",
        "      table[ind][0] = data[i]\n",
        "    else:\n",
        "      t = table[ind]\n",
        "      t.append(data[i])\n",
        "  return(table)\n",
        "\n",
        "# untuk mengecek apakah data berada di hash table\n",
        "def searchHash(data,table):\n",
        "  hashVal = remainderFunction(data,len(table))\n",
        "  if table[hashVal] != 'none':\n",
        "    for i in range(len(table[hashVal])):\n",
        "      if data == table[hashVal][i]:\n",
        "        return (hashVal,i,True)\n",
        "  else:\n",
        "    return False\n",
        "\n",
        "data = generate(7000)\n",
        "print(data)\n"
      ],
      "metadata": {
        "id": "DDxPSKCQg6rN",
        "colab": {
          "base_uri": "https://localhost:8080/"
        },
        "outputId": "3edb7a5a-0b66-4eda-a1b7-62f7e8d9ded5"
      },
      "execution_count": null,
      "outputs": [
        {
          "output_type": "stream",
          "name": "stdout",
          "text": [
            "[6559, 6073, 6654, 6635, 6437, 6485, 6644, 6315, 6586, 6865, 6371, 6679, 6820, 6664, 6940, 6106, 6667, 6521, 6598, 6009, 6708, 6268, 6304, 6620, 6323, 6413, 6621, 6068, 6880, 6256, 6865, 6593, 6908, 6896, 6264, 6331, 6498, 6038, 6180, 6532, 6600, 6543, 6504, 6187, 6926, 6812, 6808, 6230, 6938, 6385, 6662, 6507, 6614, 6104, 6381, 6728, 6166, 6250, 6156, 6141, 7000, 6804, 6315, 6428, 6321, 6690, 6552, 6779, 6980, 6481, 6624, 6813, 6088, 6795, 6862, 6181, 6012, 6489, 6944, 6063, 6481, 6483, 6569, 6869, 6960, 6552, 6197, 6365, 6688, 6066, 6172, 6298, 6856, 6252, 6286, 6586, 6375, 6365, 6250, 6290, 6170, 6140, 6704, 6543, 6970, 6614, 6663, 6136, 6470, 6897, 6862, 6839, 6256, 6226, 6566, 6087, 6841, 6141, 6447, 6177, 6265, 6216, 6888, 6389, 6371, 6585, 6264, 6317, 6611, 6361, 6878, 6816, 6073, 6374, 6905, 6954, 6741, 6089, 6992, 6759, 6257, 6038, 6755, 6673, 6278, 6381, 6987, 6250, 6470, 6281, 6323, 6774, 6325, 6553, 6110, 6804, 6162, 6114, 6597, 6488, 6558, 6316, 6775, 6360, 6594, 6254, 6913, 6934, 6450, 6767, 6836, 6999, 6174, 6539, 6523, 6859, 6380, 6265, 6340, 6523, 6995, 6155, 6417, 6555, 6702, 6060, 6168, 6360, 6082, 6763, 6389, 6325, 6988, 6791, 6194, 6325, 6537, 6252, 6013, 6758, 6828, 6775, 6790, 6796, 6050, 6674, 6101, 6141, 6120, 6282, 6560, 6698, 6523, 6823, 6504, 6370, 6321, 6834, 6045, 6839, 6516, 6356, 6019, 6203, 6377, 6465, 6297, 6846, 6841, 6683, 6445, 6091, 6977, 6519, 6488, 6576, 6222, 6082, 6702, 6220, 6895, 6793, 6072, 6548, 6976, 6064, 6130, 6847, 6284, 6924, 6219, 6639, 6732, 6457, 6325, 6648, 6461, 6773, 6462, 6514, 6903, 6861, 6739, 6018, 6714, 6317, 6187, 6480, 6453, 6184, 6667, 6648, 6950, 6804, 6855, 6286, 6567, 6805, 6179, 6211, 6965, 6877, 6202, 6147, 6324, 6619, 6640, 6924, 6573, 6683, 6480, 6371, 6558, 6922, 6522, 6865, 6506, 6179, 6148, 6745, 6042, 6268, 6163, 6694, 6839, 6257, 6259, 6140, 6473, 6442, 6560, 6449, 6713, 6544, 6142, 6527, 6096, 6611, 6062, 6848, 6211, 6683, 6189, 6992, 6254, 6989, 6315, 6575, 6901, 6646, 6561, 6810, 6165, 6750, 6870, 6020, 6911, 6329, 6671, 6741, 6614, 6706, 6362, 6705, 6360, 6008, 6815, 6150, 6333, 6137, 6936, 6887, 6981, 6852, 6769, 6557, 6400, 6099, 6057, 6057, 6069, 6814, 6878, 6767, 6548, 6220, 6487, 6100, 6004, 6564, 6319, 6888, 6799, 6907, 6776, 6155, 6698, 6074, 6008, 6311, 6372, 6405, 6866, 6937, 6039, 6124, 6637, 6674, 6763, 6950, 6387, 6054, 6019, 6206, 6067, 6845, 6107, 6288, 6435, 6285, 6202, 6545, 6832, 6205, 6648, 6926, 6903, 6497, 6658, 6152, 6563, 6234, 6365, 6772, 6720, 6503, 6120, 6321, 6178, 6311, 6293, 6228, 6961, 6866, 6153, 6556, 6597, 6001, 6577, 6613, 6737, 6040, 6231, 6296, 6009, 6942, 6474, 6052, 6415, 6841, 6409, 6371, 6012, 6566, 6153, 6579, 6542, 6812, 6235, 6385, 6887, 6480, 6577, 6676, 6040, 6695, 6023, 6320, 6659, 6681, 6779, 6440, 6511, 6091, 6838, 6677, 6440, 6580, 6941, 6974, 6730, 6632, 6905, 6167, 6275, 6838, 6564, 6649, 6479, 6562, 6151, 6725, 6512, 6405, 6260, 6632, 6003, 6053, 6366, 6190, 6167, 6157, 6757, 6979, 6642, 6107, 6931, 6670, 6517, 6675]\n"
          ]
        }
      ]
    },
    {
      "cell_type": "code",
      "source": [
        "numOfSlot = 100\n",
        "HashTable = createHashTable(numOfSlot)\n",
        "HashTable = putData(data,HashTable)\n",
        "\n",
        "findData = 6532\n",
        "found = searchHash(findData, HashTable)\n",
        "if not found:\n",
        "  print('{} Is Not In The Hash Table'.format(findData))\n",
        "else:\n",
        "  print('{} Is In Slot {} Index : {}'.format(findData,found[0],found[1]))\n",
        "  print('Data In Slot [{}] : {}'.format(found[0],HashTable[found[0]]))\n"
      ],
      "metadata": {
        "colab": {
          "base_uri": "https://localhost:8080/"
        },
        "id": "_Suq0jaUz76R",
        "outputId": "0bdb5901-56de-45eb-a2e4-6c836c0052ed"
      },
      "execution_count": null,
      "outputs": [
        {
          "output_type": "stream",
          "name": "stdout",
          "text": [
            "6532 Is In Slot 32 Index : 0\n",
            "Data In Slot [32] : [6532, 6732, 6832, 6632, 6632]\n"
          ]
        }
      ]
    },
    {
      "cell_type": "code",
      "source": [
        "numOfSlot = 300\n",
        "HashTable = createHashTable(numOfSlot)\n",
        "HashTable = putData(data,HashTable)\n",
        "\n",
        "findData = 6532\n",
        "found = searchHash(findData, HashTable)\n",
        "if not found:\n",
        "  print('{} Is Not In The Hash Table'.format(findData))\n",
        "else:\n",
        "  print('{} Is In Slot {} Index : {}'.format(findData,found[0],found[1]))\n",
        "  print('Data In Slot [{}] : {}'.format(found[0],HashTable[found[0]]))\n"
      ],
      "metadata": {
        "colab": {
          "base_uri": "https://localhost:8080/"
        },
        "id": "wgNWe7fM0HPI",
        "outputId": "768835d9-76ce-436e-a983-d77c61e725bd"
      },
      "execution_count": null,
      "outputs": [
        {
          "output_type": "stream",
          "name": "stdout",
          "text": [
            "6532 Is In Slot 232 Index : 0\n",
            "Data In Slot [232] : [6532, 6832]\n"
          ]
        }
      ]
    },
    {
      "cell_type": "code",
      "source": [
        "numOfSlot = 500\n",
        "HashTable = createHashTable(numOfSlot)\n",
        "HashTable = putData(data,HashTable)\n",
        "\n",
        "findData = 6532\n",
        "found = searchHash(findData, HashTable)\n",
        "if not found:\n",
        "  print('{} Is Not In The Hash Table'.format(findData))\n",
        "else:\n",
        "  print('{} Is In Slot {} Index : {}'.format(findData,found[0],found[1]))\n",
        "  print('Data In Slot [{}] : {}'.format(found[0],HashTable[found[0]]))\n"
      ],
      "metadata": {
        "colab": {
          "base_uri": "https://localhost:8080/"
        },
        "id": "VENOIRxMx6V0",
        "outputId": "b725e39d-8e05-4e02-8356-6980fced8748"
      },
      "execution_count": null,
      "outputs": [
        {
          "output_type": "stream",
          "name": "stdout",
          "text": [
            "6532 Is In Slot 32 Index : 0\n",
            "Data In Slot [32] : [6532]\n"
          ]
        }
      ]
    },
    {
      "cell_type": "markdown",
      "source": [
        "### **2.2 Object**\n",
        "Buatlah class bilangan pecahan, yang berisi :\n",
        "\n",
        "*  constructor, untuk pengesetan state/property pembilang dan penyebut dari bilangan pecahan\n",
        "*  method display, untuk displaykan bilangan pecahan yang sudah diinstansiasi\n",
        "*  method penjumlahan, untuk menjumlahkan dua buah bilangan pecahan\n",
        "\n",
        "Contoh output yang dihasilkan dapat dilihat pada Gambar 2. HashtagVideo : Modul8 ImplementasiBilanganPecahan\n",
        "dan PraktikumStrukturData KelasX"
      ],
      "metadata": {
        "id": "bOI5aLlEdYx_"
      }
    },
    {
      "cell_type": "code",
      "source": [
        "class BilanganPecahan:\n",
        "  # contructor\n",
        "  def __init__(self,pembilang,penyebut):\n",
        "    self.pembilang = pembilang\n",
        "    self.penyebut = penyebut\n",
        "\n",
        "  # penjumlahan\n",
        "  def jumlah(self,num1,num2):\n",
        "    p1 = num1.penyebut\n",
        "    p2 = num2.penyebut\n",
        "    start = True\n",
        "    while start:\n",
        "      if p1 < p2:\n",
        "        p1 += num1.penyebut\n",
        "      elif p2 < p1:\n",
        "        p2 += num2.penyebut\n",
        "      else:\n",
        "        p_sama = p1\n",
        "        start = False\n",
        "    pemb1 = (p_sama/num1.penyebut)*num1.pembilang\n",
        "    pemb2 = (p_sama/num2.penyebut)*num2.pembilang\n",
        "    self.pembilang = int(pemb1 + pemb2)\n",
        "    self.penyebut = p_sama\n",
        "\n",
        "  # memanggil state\n",
        "  def display(self):\n",
        "    return('{}/{}'.format(self.pembilang,self.penyebut))\n"
      ],
      "metadata": {
        "id": "PsQWoJrwTwe2"
      },
      "execution_count": null,
      "outputs": []
    },
    {
      "cell_type": "code",
      "source": [
        "num1 = BilanganPecahan(4,6)\n",
        "num2 = BilanganPecahan(1,4)\n",
        "num3 = BilanganPecahan(0,0)\n",
        "num3.jumlah(num1,num2)\n",
        "\n",
        "print(num1.display())\n",
        "print(num2.display())\n",
        "print(num3.display())\n"
      ],
      "metadata": {
        "colab": {
          "base_uri": "https://localhost:8080/"
        },
        "id": "YNudkIBcHIYP",
        "outputId": "126ee829-1198-436e-85fc-56d1e77181dd"
      },
      "execution_count": null,
      "outputs": [
        {
          "output_type": "stream",
          "name": "stdout",
          "text": [
            "4/6\n",
            "1/4\n",
            "11/12\n"
          ]
        }
      ]
    },
    {
      "cell_type": "code",
      "source": [
        "num1 = BilanganPecahan(1,13)\n",
        "num2 = BilanganPecahan(4,7)\n",
        "num3 = BilanganPecahan(0,0)\n",
        "num3.jumlah(num1,num2)\n",
        "\n",
        "print(num1.display())\n",
        "print(num2.display())\n",
        "print(num3.display())\n"
      ],
      "metadata": {
        "id": "gjhoNxnHHOel",
        "outputId": "ee9796d6-480e-47cf-acff-334174250dc5",
        "colab": {
          "base_uri": "https://localhost:8080/"
        }
      },
      "execution_count": null,
      "outputs": [
        {
          "output_type": "stream",
          "name": "stdout",
          "text": [
            "1/13\n",
            "4/7\n",
            "59/91\n"
          ]
        }
      ]
    }
  ]
}