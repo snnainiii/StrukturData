{
  "nbformat": 4,
  "nbformat_minor": 0,
  "metadata": {
    "colab": {
      "provenance": []
    },
    "kernelspec": {
      "name": "python3",
      "display_name": "Python 3"
    },
    "language_info": {
      "name": "python"
    }
  },
  "cells": [
    {
      "cell_type": "markdown",
      "source": [
        "**NAMA : SITI NUR AINI**\n",
        "\n",
        "**NIM : 210411100054**\n",
        "\n",
        "**MODUL 4 - QUEUE DAN DEQUE**"
      ],
      "metadata": {
        "id": "rpXg290cfcZy"
      }
    },
    {
      "cell_type": "markdown",
      "source": [
        "## **1 Konsep**"
      ],
      "metadata": {
        "id": "0O5H03eJfhYZ"
      }
    },
    {
      "cell_type": "markdown",
      "source": [
        "Tulisringkasan atau penjelasan hal-hal berikut, dengan kata-kata kalian sendiri mengenai :\n",
        "1. Queue, pengertian, dan operasi-operasi yang terdapat pada queue\n",
        "2. Deque, pengertian, dan operasi-operasi yang terdapat pada Deque\n",
        "HashtagVideo : Modul4 QueueDeque dan PraktikumStrukturData KelasX"
      ],
      "metadata": {
        "id": "yaNOhbRTflKw"
      }
    },
    {
      "cell_type": "markdown",
      "source": [
        "### **Konsep 1**"
      ],
      "metadata": {
        "id": "HvXCZ8Flfsdc"
      }
    },
    {
      "cell_type": "markdown",
      "source": [
        "**QUEUE**\n",
        "\n",
        "**Pengertian Queue**\n",
        "\n",
        "Queue merupakan struktur data yang mana untuk menambahan dan penghapusan datanya dilakukan di ujung yang berbeda, yaitu:\n",
        "\n",
        "*   Penambahan : ujung rear (index pertama)\n",
        "*   Penghapusan : ujung front (index terakhir)\n",
        "\n",
        "Konsep tersebut dalam queue dinamakan **FIFO (First In First Out)**\n",
        "\n",
        "Contoh implementasi queue adalah **antrian**\n",
        "\n",
        "**Operasi Pada Queue**\n",
        "Pada queue terdapat beberapa operasi dasar yaitu:\n",
        "\n",
        "*   **queue ()** : digunakan untuk inisialisasi struktur data queue kosong\n",
        "*   **enqueue(data)** : digunakan untuk penambahan *data* baru pada queue\n",
        "*   **dequeue ()** : digunakan untuk penghapusan data\n",
        "*   **isEmpty ()** : digunakan untuk pengecekan apakah queue dalam keadaan kosong\n",
        "*   **size ()** : digunakan untuk mengetahui informasi jumlah data yang terdapat pada queue\n",
        "\n",
        "\n",
        "Data pada **index terakhir** pada list adalah data yang terletak di ujung **front** pada queue, karena itu digunakan method **pop()** pada list\n",
        "\n",
        "Data pada **index ke-0** pada list adalah data yang terletak di ujung **rear** pada queue, karena itu digunakan method **insert()** pada list\n",
        "\n",
        "\n",
        "\n",
        "\n"
      ],
      "metadata": {
        "id": "7tAIGfz1fwG0"
      }
    },
    {
      "cell_type": "code",
      "source": [
        "# inisialisasi queue\n",
        "def createQueue():\n",
        " q=[]\n",
        " return (q)\n",
        "\n",
        "# penambahan data baru\n",
        "def enqueue(q,data):\n",
        " q.insert(0,data)\n",
        " return(q)\n",
        "\n",
        "# penghapusan data\n",
        "def dequeue(q):\n",
        " data=q.pop()\n",
        " return(data)\n",
        "\n",
        "# pengecekan apakah queue dalam keadaan kosong\n",
        "def isEmpty(q):\n",
        " return (q==[])\n",
        "\n",
        "# mengetahui informasik jumlah data yang terdapat pada queque\n",
        "def size(q):\n",
        " return (len(q))"
      ],
      "metadata": {
        "id": "U5UkgsCAf3zp"
      },
      "execution_count": null,
      "outputs": []
    },
    {
      "cell_type": "markdown",
      "source": [
        "### **Konsep 2**"
      ],
      "metadata": {
        "id": "owsgci0Uf49G"
      }
    },
    {
      "cell_type": "markdown",
      "source": [
        "**DEQUE**\n",
        "\n",
        "**Pengertian Deque**\n",
        "\n",
        "Deque merupakan struktur data yang mana untuk menambahan dan penghapusan datanya dilakukan di ujung yang sama hanya terdapat sesdikit perbedaan.\n",
        "\n",
        "Jika deque direpresentasikan dengan List:\n",
        "\n",
        "*   index awal list: adalah index ke-0, berada di posisi **front** pada deque\n",
        "*   index awal list: adalah index terakhir, berada di posisi **rear** pada deque\n",
        "\n",
        "Contoh implementasi deque adalah pengecekan apakah suatu kata merupakan **palindrom**\n",
        "\n",
        "**Palindrom** merupakan rangkaian kata atau bilangan yang terbaca sama baik dari depan maupun dari belakang\n",
        "\n",
        "**Operasi Pada Queue**\n",
        "Pada queue terdapat beberapa operasi dasar yaitu:\n",
        "\n",
        "*   **deque ()** : digunakan untuk inisialisasi struktur data deque kosong\n",
        "*   **addfont(data)** : digunakan untuk penambahan *data* baru di ujung front pada queue\n",
        "*   **addrear(data)** : digunakan untuk penambahan *data* baru di rear pada queue\n",
        "*   **removefont(data)** : digunakan untuk penghapusan *data* di ujung front pada queue\n",
        "*   **removerear(data)** : digunakan untuk penghapusan *data* di rear pada queue\n",
        "*   **isEmpty ()** : digunakan untuk pengecekan apakah deque dalam keadaan kosong\n",
        "*   **size ()** : digunakan untuk mengetahui informasi jumlah data yang terdapat pada deque\n",
        "\n",
        "\n",
        "Penambahan data baru pada posisi **front** dilakukan dengan method **insert()** pada posisi ke-0\n",
        "\n",
        "Penambahan data baru pada posisi **rear** dilakukan dengan method **append()** pada posisi terakhir\n",
        "\n",
        "Penghapusan data pada posisi **front** dilakukan dengan method **pop()** pada posisi ke-0\n",
        "\n",
        "Penghapusan data pada posisi **rear** dilakukan dengan method **pop()** pada posisi terakhir\n",
        "\n",
        "\n",
        "\n",
        "\n",
        "\n",
        "\n",
        "\n"
      ],
      "metadata": {
        "id": "_GimZXvtf-Wr"
      }
    },
    {
      "cell_type": "code",
      "source": [
        "# inisialisasi deque\n",
        "def createDeque():\n",
        " d=[]\n",
        " return (d)\n",
        "\n",
        "# penambahan data baru di ujung front\n",
        "def addFront(d,data):\n",
        " d.insert(0,data)\n",
        " return(d)\n",
        "\n",
        "# penambahan data baru di ujung rear\n",
        "def addRear(d,data):\n",
        " d.append(data)\n",
        " return(d)\n",
        "\n",
        "# penghapusan data di ujung rear\n",
        "def removeRear(d):\n",
        " data=d.pop()\n",
        " return(data)\n",
        "\n",
        "# penghapusan data di ujung front\n",
        "def removeFront(d):\n",
        " data=d.pop(0)\n",
        " return(data)\n",
        "\n",
        "# pengecekan apakah deque dalam keadaan kosong\n",
        "def isEmpty(d):\n",
        " return (d==[])\n",
        "\n",
        "# mengetahui jumlah data yang terdapat pada deque\n",
        "def size(d):\n",
        " return (len(d))"
      ],
      "metadata": {
        "id": "0vjvffa9gD--"
      },
      "execution_count": null,
      "outputs": []
    },
    {
      "cell_type": "markdown",
      "source": [
        "## **2 Implementasi**\n",
        "\n"
      ],
      "metadata": {
        "id": "lmQJk4vtg8uP"
      }
    },
    {
      "cell_type": "markdown",
      "source": [
        "### **2.1 Scheduling / Penjadwalan**\n",
        "Terdapat proses penjadwalan CPU (resource sharing). Pada penjadwalan CPU terdapat beberapa proses sebagai berikut :\n",
        "*  Semua task masuk kedalam antrian, setiap task ini terdapat atribut waktu yang dibutuhkan masing\u0002masing task untuk menggunakan CPU. Misalkan task A membutuhkan waktu untuk diproses di CPU\n",
        "selama 7 detik\n",
        "*  Task yang berada di posisi paling depan dari antrian, mendapat kesempatan pertama untuk diproses\n",
        "ke dalam CPU\n",
        "*  CPU memiliki atribut waktu, yaitu semua task hanya boleh menggunakan CPU selama waktu tertentu.\n",
        "Misalkan waktu CPU adalah 3 detik, maka semua task hanya boleh mengakses/menggunakan waktu CPU\n",
        "3 detik saja\n",
        "  *   Jika suatu task membutuhkan waktu lebih dari waktu CPU, maka task tersebut akan diproses selama waktu CPU saja, kemudian task akan dikeluarkan dan dimasukkan kembali (posisi rear) ke dalam antrian, agar task tersebut dapat diproses selanjutnya\n",
        "  * Jika task membutuhkan waktu tidak melebih waktu proses CPU, maka task diproses sesuai waktu proses task kemudian dikeluarkan dari antrian, yang berarti task tersebut telah selesai diproses oleh CPU.\n",
        "\n",
        "Buatlah ilustrasi penjadwalan CPU tersebut dengan menggunakan modul queue yang telah dibuat sebelumnya, dengan ketentuan sebagai berikut :\n",
        "\n",
        "1.   Input berupa jumlah *task* atau proses yang akan diproses pada CPU\n",
        "2.   Nama proses, beserta atribut waktu yang dibutuhkan masing-masing proses untuk menggunakan CPU\n",
        "3.   Waktu proses CPU\n",
        "\n",
        "Contoh ilustrasi penjadwalan CPU dapat dilihat pada Gambar 1\n",
        "HashtagVideo : Modul4 SchedulingQueuedan PraktikumStrukturData Kelas\n",
        "\n"
      ],
      "metadata": {
        "id": "SjhGoqDrhFJD"
      }
    },
    {
      "cell_type": "markdown",
      "source": [
        "### **Implementasi 1**"
      ],
      "metadata": {
        "id": "Q1pZKV3_lIh4"
      }
    },
    {
      "cell_type": "code",
      "execution_count": null,
      "metadata": {
        "id": "AhDKZNXi1Ja8"
      },
      "outputs": [],
      "source": [
        "# inisialisasi queue\n",
        "def createQueue():\n",
        "    q=[]\n",
        "    return (q)\n",
        "\n",
        "# penambahan data baru\n",
        "def enqueue(q,data): #rear - index[0]\n",
        "    q.insert(0,data)\n",
        "    return (q)\n",
        "\n",
        "# pengurangan data\n",
        "def dequeue(q): #front -index terakhir\n",
        "    data=q.pop()\n",
        "    return (data)\n",
        "\n",
        "# pengecekan apakah queue dalam keadaan kosong\n",
        "def isEmpty(q):\n",
        "    return (q==[])\n",
        "\n",
        "# informasi jumlah data queue\n",
        "def size(q):\n",
        "    return (len(q))"
      ]
    },
    {
      "cell_type": "code",
      "source": [
        "data = createQueue()\n",
        "jumlah = int(input('Jumlah Proses yang akan dijadwalkan di CPU = '))\n",
        "for i in range(jumlah):\n",
        "  nama = input('Nama Proses ke- ' + str(i) + ': ')\n",
        "  waktu = int(input('Waktu proses : '))\n",
        "  enqueue(data,[nama,waktu])\n",
        "print('Antrian Proses : ', data)"
      ],
      "metadata": {
        "colab": {
          "base_uri": "https://localhost:8080/"
        },
        "id": "0pEBf6TImKJk",
        "outputId": "6166753e-4435-457f-9149-c0e9fd7cfb69"
      },
      "execution_count": null,
      "outputs": [
        {
          "output_type": "stream",
          "name": "stdout",
          "text": [
            "Jumlah Proses yang akan dijadwalkan di CPU = 3\n",
            "Nama Proses ke- 0: A\n",
            "Waktu proses : 5\n",
            "Nama Proses ke- 1: B\n",
            "Waktu proses : 9\n",
            "Nama Proses ke- 2: C\n",
            "Waktu proses : 2\n",
            "Antrian Proses :  [['C', 2], ['B', 9], ['A', 5]]\n"
          ]
        }
      ]
    },
    {
      "cell_type": "code",
      "source": [
        "data = createQueue()\n",
        "jumlah = int(input('Jumlah Proses yang akan dijadwalkan di CPU = '))\n",
        "for i in range(jumlah):\n",
        "  nama = input('Nama Proses ke- ' + str(i) + ': ')\n",
        "  waktu = int(input('Waktu proses : '))\n",
        "  enqueue(data,[nama,waktu])\n",
        "print('Antrian Proses : ', data)\n",
        "\n",
        "def scedulling (data,time):\n",
        "  print('Antrian Proses beserta Waktunya = ', data)\n",
        "  iterasi = 0\n",
        "  while not(isEmpty(data)):\n",
        "    iterasi += 1\n",
        "    print('Iterasi ke- ', iterasi)\n",
        "    proses = dequeue(data)\n",
        "    if proses[1] > time:\n",
        "      proses[1] -= time\n",
        "      print('     Proses',proses[0], 'sedang diproses, dan sisa waktu proses', proses[0], ' = ',proses[1])\n",
        "      enqueue(data,proses)\n",
        "    else:\n",
        "      print('     Proses',proses[0],'telah selesai diproses')\n",
        "    print('     Data proses yang tersisa : ',data)\n",
        "\n",
        "time = int(input('waktu proses CPU = '))\n",
        "scedulling(data,time)"
      ],
      "metadata": {
        "colab": {
          "base_uri": "https://localhost:8080/"
        },
        "id": "FDuO5OJxmYPF",
        "outputId": "1971b7f8-bb4c-44f5-eddc-9a6f5719af50"
      },
      "execution_count": null,
      "outputs": [
        {
          "output_type": "stream",
          "name": "stdout",
          "text": [
            "Jumlah Proses yang akan dijadwalkan di CPU = 3\n",
            "Nama Proses ke- 0: A\n",
            "Waktu proses : 5\n",
            "Nama Proses ke- 1: B\n",
            "Waktu proses : 9\n",
            "Nama Proses ke- 2: C\n",
            "Waktu proses : 2\n",
            "Antrian Proses :  [['C', 2], ['B', 9], ['A', 5]]\n",
            "waktu proses CPU = 3\n",
            "Antrian Proses beserta Waktunya =  [['C', 2], ['B', 9], ['A', 5]]\n",
            "Iterasi ke-  1\n",
            "     Proses A sedang diproses, dan sisa waktu proses A  =  2\n",
            "     Data proses yang tersisa :  [['A', 2], ['C', 2], ['B', 9]]\n",
            "Iterasi ke-  2\n",
            "     Proses B sedang diproses, dan sisa waktu proses B  =  6\n",
            "     Data proses yang tersisa :  [['B', 6], ['A', 2], ['C', 2]]\n",
            "Iterasi ke-  3\n",
            "     Proses C telah selesai diproses\n",
            "     Data proses yang tersisa :  [['B', 6], ['A', 2]]\n",
            "Iterasi ke-  4\n",
            "     Proses A telah selesai diproses\n",
            "     Data proses yang tersisa :  [['B', 6]]\n",
            "Iterasi ke-  5\n",
            "     Proses B sedang diproses, dan sisa waktu proses B  =  3\n",
            "     Data proses yang tersisa :  [['B', 3]]\n",
            "Iterasi ke-  6\n",
            "     Proses B telah selesai diproses\n",
            "     Data proses yang tersisa :  []\n"
          ]
        }
      ]
    }
  ]
}