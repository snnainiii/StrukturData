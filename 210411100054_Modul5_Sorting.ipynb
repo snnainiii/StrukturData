{
  "nbformat": 4,
  "nbformat_minor": 0,
  "metadata": {
    "colab": {
      "provenance": []
    },
    "kernelspec": {
      "name": "python3",
      "display_name": "Python 3"
    },
    "language_info": {
      "name": "python"
    }
  },
  "cells": [
    {
      "cell_type": "markdown",
      "source": [
        "**NAMA : SITI NUR AINI**\n",
        "\n",
        "**NIM : 210411100054**\n",
        "\n",
        "**MODUL 5 - SHORTING**"
      ],
      "metadata": {
        "id": "2IyQ5V5MeY6C"
      }
    },
    {
      "cell_type": "markdown",
      "source": [
        " ## **1 Konsep**"
      ],
      "metadata": {
        "id": "Oay9eb9cei8k"
      }
    },
    {
      "cell_type": "markdown",
      "source": [
        "Kerjakan berikut dengan ketentuan, modulus satu digit terakhir dengan 3, hasil modulus adalah kode soal\n",
        "berikut ini. Tulis ringkasan atau penjelasan hal-hal berikut, dengan kata-kata kalian sendiri mengenai :\n",
        "*  Kode Soal = 0, Bubble Sort, pengertian, dan fungsi Bubble Sort\n",
        "*  Kode Soal = 1, Selection Sort, pengertian, dan fungsi Selection Sort\n",
        "*  Kode Soal = 2, Insertion Sort, pengertian, dan fungsi Insertion Sort\n",
        "HashtagVideo : Modul5 Sorting dan PraktikumStrukturData KelasX"
      ],
      "metadata": {
        "id": "FUvob6Klej7_"
      }
    },
    {
      "cell_type": "markdown",
      "source": [
        "### **Konsep 1**"
      ],
      "metadata": {
        "id": "e97IgDbmepTi"
      }
    },
    {
      "cell_type": "markdown",
      "source": [
        "**SELECTION SORT**\n",
        "\n",
        "**Pengertian Selection Sort**\n",
        "\n",
        "selection sort merupakan teknik pengurutan dengan cara mencari nilai tertinggi/terendah di dalam list kemudian menempatkan nilai tersebut di tempat semestinya.\n",
        "\n",
        "Pada selection sort akan dicari data yang\n",
        "memenuhi syarat terlebih dahulu (perbandingan data), kemudian data yang terpilih ini ini akan diletakkan pada indeks data yang tepat. Oleh karena itu algoritma ini dinamakan selection\n",
        "(pemilihan data).\n",
        "\n",
        "\n",
        "**Fungsi Selection Sort**\n",
        "\n",
        "Untuk mengurutkan data, baik itu pengurutan dari yang terkecil ke terbesar (Ascending) atau dari yang terbesar ke terkecil (Descending) yang menjadikan data lebih terstruktur, rapi dan teratur"
      ],
      "metadata": {
        "id": "VpP0KYrser43"
      }
    },
    {
      "cell_type": "markdown",
      "source": [
        " ## **2 Implementasi-1**"
      ],
      "metadata": {
        "id": "-Us3Rju5e-ZH"
      }
    },
    {
      "cell_type": "markdown",
      "source": [
        "Kerjakan berikut dengan ketentuan, modulus satu digit terakhir dengan 6, hasil modulus adalah kode soal\n",
        "berikut ini. HashtagVideo : Modul5 [AlgoritmaSorting] dan PraktikumStrukturData KelasX,\n",
        "misalkan : #Modul5 InsertionSortDescending #PraktikumStrukturData KelasX\n"
      ],
      "metadata": {
        "id": "6R4gwrvefCoc"
      }
    },
    {
      "cell_type": "markdown",
      "source": [
        "### **2.5 Kode Soal=4**\n",
        "Buat fungsi **Modifikasi Algoritma Sorting - Selection Sort,** untuk pengurutan secara **ascending,**\n",
        "dengan ketentuan :\n",
        "\n",
        "*  Seleksi/cari indeks data yang memiliki nilai maksimal dari suatu list (pencarian dilakukan mulai dari\n",
        "indeks-indeks akhir)\n",
        "*  Data yang memiliki nilai besar, diletakkan terlebih dahulu di indek-indeks akhir, sehingga pada akhir\n",
        "iterasi indeks-indeks akhir ditempati data yang memiliki nilai besar.\n",
        "*  Contoh Proses perbandingan yang dilakukan pada modifikasi algoritma selection sort ini dan output\n",
        "yang harus dihasilkan pada fungsi yang akan dibuat, dapat dilihat pada Gambar 5\n",
        "\n"
      ],
      "metadata": {
        "id": "Tp59WVrffLh8"
      }
    },
    {
      "cell_type": "markdown",
      "source": [
        "### **Implementasi - 1**\n",
        "### **Kode soal = 4**"
      ],
      "metadata": {
        "id": "7D1mm_ccfl_i"
      }
    },
    {
      "cell_type": "code",
      "source": [
        "#  Selection Sort - Ascending\n",
        "def selectionsortasc(data):\n",
        "  n = len(data)\n",
        "  print('Data =',data)\n",
        "  for i in range(n-1,-1,-1): #awal, akhir, intereval\n",
        "    minflag = i\n",
        "    maxkey = i\n",
        "    for j in range(maxkey):\n",
        "      if data[maxkey] <= data[j] :\n",
        "        maxkey = j\n",
        "\n",
        "    if data[maxkey] >= data[minflag]:\n",
        "      data[maxkey],data[minflag] = data[minflag],data[maxkey]\n",
        "    print('data[%s] is the max value, swap data[%s] and data[%s],  new data :%s' % (maxkey, maxkey, minflag, data))\n",
        "  print('Sorted Data=', data)"
      ],
      "metadata": {
        "id": "kqk7RR6hTWz8"
      },
      "execution_count": null,
      "outputs": []
    },
    {
      "cell_type": "code",
      "source": [
        "data = [10, 9, 1, 3, 8, 7, 11, 0]\n",
        "selectionsortasc(data)"
      ],
      "metadata": {
        "id": "khqkGGcYkRD5",
        "colab": {
          "base_uri": "https://localhost:8080/"
        },
        "outputId": "463511f2-4849-4bcb-f93d-f4f99c97d011"
      },
      "execution_count": null,
      "outputs": [
        {
          "output_type": "stream",
          "name": "stdout",
          "text": [
            "Data = [10, 9, 1, 3, 8, 7, 11, 0]\n",
            "data[6] is the max value, swap data[6] and data[7],  new data :[10, 9, 1, 3, 8, 7, 0, 11]\n",
            "data[0] is the max value, swap data[0] and data[6],  new data :[0, 9, 1, 3, 8, 7, 10, 11]\n",
            "data[1] is the max value, swap data[1] and data[5],  new data :[0, 7, 1, 3, 8, 9, 10, 11]\n",
            "data[4] is the max value, swap data[4] and data[4],  new data :[0, 7, 1, 3, 8, 9, 10, 11]\n",
            "data[1] is the max value, swap data[1] and data[3],  new data :[0, 3, 1, 7, 8, 9, 10, 11]\n",
            "data[1] is the max value, swap data[1] and data[2],  new data :[0, 1, 3, 7, 8, 9, 10, 11]\n",
            "data[1] is the max value, swap data[1] and data[1],  new data :[0, 1, 3, 7, 8, 9, 10, 11]\n",
            "data[0] is the max value, swap data[0] and data[0],  new data :[0, 1, 3, 7, 8, 9, 10, 11]\n",
            "Sorted Data= [0, 1, 3, 7, 8, 9, 10, 11]\n"
          ]
        }
      ]
    },
    {
      "cell_type": "code",
      "source": [
        "data = [10, 7, 6, 5, 3, 1, 0, -5]\n",
        "selectionsortasc(data)"
      ],
      "metadata": {
        "id": "QYaBWPlTkVnU",
        "colab": {
          "base_uri": "https://localhost:8080/"
        },
        "outputId": "295c7e5a-aff1-4dc9-936b-b950a32c252c"
      },
      "execution_count": null,
      "outputs": [
        {
          "output_type": "stream",
          "name": "stdout",
          "text": [
            "Data = [10, 7, 6, 5, 3, 1, 0, -5]\n",
            "data[0] is the max value, swap data[0] and data[7],  new data :[-5, 7, 6, 5, 3, 1, 0, 10]\n",
            "data[1] is the max value, swap data[1] and data[6],  new data :[-5, 0, 6, 5, 3, 1, 7, 10]\n",
            "data[2] is the max value, swap data[2] and data[5],  new data :[-5, 0, 1, 5, 3, 6, 7, 10]\n",
            "data[3] is the max value, swap data[3] and data[4],  new data :[-5, 0, 1, 3, 5, 6, 7, 10]\n",
            "data[3] is the max value, swap data[3] and data[3],  new data :[-5, 0, 1, 3, 5, 6, 7, 10]\n",
            "data[2] is the max value, swap data[2] and data[2],  new data :[-5, 0, 1, 3, 5, 6, 7, 10]\n",
            "data[1] is the max value, swap data[1] and data[1],  new data :[-5, 0, 1, 3, 5, 6, 7, 10]\n",
            "data[0] is the max value, swap data[0] and data[0],  new data :[-5, 0, 1, 3, 5, 6, 7, 10]\n",
            "Sorted Data= [-5, 0, 1, 3, 5, 6, 7, 10]\n"
          ]
        }
      ]
    },
    {
      "cell_type": "markdown",
      "source": [
        "## **3 Implementasi-2**\n"
      ],
      "metadata": {
        "id": "2eaFQ7WOf8GD"
      }
    },
    {
      "cell_type": "markdown",
      "source": [
        "Kerjakan untuk semua mahasiswa.\n",
        "Modifikasi algoritma Bubble Sort agar iterasi terhenti ketika tidak ada lagi data yang akan ditukar posisinya\n",
        "(semua data sudah berada di tempat yang tepat). Contoh Bubble Sort tanpa modifikasi dapat dilihat pada\n",
        "Gambar 7a, sedangkan modifikasi bubble sort dapat dilihat pada Gambar 7b.\n",
        "HashtagVideo : Modul5 BubbleSortModifikasi dan PraktikumStrukturData KelasX,"
      ],
      "metadata": {
        "id": "fMDyOJvbgDKW"
      }
    },
    {
      "cell_type": "markdown",
      "source": [
        "### **Implementasi-2**"
      ],
      "metadata": {
        "id": "an8S47m4gLO_"
      }
    },
    {
      "cell_type": "code",
      "source": [
        "# (a) Bubble Sort Tanpa Modifikasi\n",
        "def bubleSort(data):\n",
        "  print('Data yang akan diurutkan : ', data)\n",
        "  iterasi = 0\n",
        "  n = len(data)\n",
        "  for i in range(n-1,-1,-1):\n",
        "    iterasi += 1\n",
        "    print('Iterasi ke-',iterasi,':')\n",
        "    for j in range(i):\n",
        "      if data[j] > data[j+1]:\n",
        "        data[j],data[j+1] = data[j+1],data[j]\n",
        "      print(j+1,'=',data)\n",
        "  print('data terurut= ',data)\n",
        "\n",
        "b = [10,2,5,8,1,20,2,2,4]\n",
        "bubleSort(b)\n"
      ],
      "metadata": {
        "colab": {
          "base_uri": "https://localhost:8080/"
        },
        "id": "3FCbc4IuA7i9",
        "outputId": "e2d6792e-a096-4b6b-f33b-d1b29e553748"
      },
      "execution_count": null,
      "outputs": [
        {
          "output_type": "stream",
          "name": "stdout",
          "text": [
            "Data yang akan diurutkan :  [10, 2, 5, 8, 1, 20, 2, 2, 4]\n",
            "Iterasi ke- 1 :\n",
            "1 = [2, 10, 5, 8, 1, 20, 2, 2, 4]\n",
            "2 = [2, 5, 10, 8, 1, 20, 2, 2, 4]\n",
            "3 = [2, 5, 8, 10, 1, 20, 2, 2, 4]\n",
            "4 = [2, 5, 8, 1, 10, 20, 2, 2, 4]\n",
            "5 = [2, 5, 8, 1, 10, 20, 2, 2, 4]\n",
            "6 = [2, 5, 8, 1, 10, 2, 20, 2, 4]\n",
            "7 = [2, 5, 8, 1, 10, 2, 2, 20, 4]\n",
            "8 = [2, 5, 8, 1, 10, 2, 2, 4, 20]\n",
            "Iterasi ke- 2 :\n",
            "1 = [2, 5, 8, 1, 10, 2, 2, 4, 20]\n",
            "2 = [2, 5, 8, 1, 10, 2, 2, 4, 20]\n",
            "3 = [2, 5, 1, 8, 10, 2, 2, 4, 20]\n",
            "4 = [2, 5, 1, 8, 10, 2, 2, 4, 20]\n",
            "5 = [2, 5, 1, 8, 2, 10, 2, 4, 20]\n",
            "6 = [2, 5, 1, 8, 2, 2, 10, 4, 20]\n",
            "7 = [2, 5, 1, 8, 2, 2, 4, 10, 20]\n",
            "Iterasi ke- 3 :\n",
            "1 = [2, 5, 1, 8, 2, 2, 4, 10, 20]\n",
            "2 = [2, 1, 5, 8, 2, 2, 4, 10, 20]\n",
            "3 = [2, 1, 5, 8, 2, 2, 4, 10, 20]\n",
            "4 = [2, 1, 5, 2, 8, 2, 4, 10, 20]\n",
            "5 = [2, 1, 5, 2, 2, 8, 4, 10, 20]\n",
            "6 = [2, 1, 5, 2, 2, 4, 8, 10, 20]\n",
            "Iterasi ke- 4 :\n",
            "1 = [1, 2, 5, 2, 2, 4, 8, 10, 20]\n",
            "2 = [1, 2, 5, 2, 2, 4, 8, 10, 20]\n",
            "3 = [1, 2, 2, 5, 2, 4, 8, 10, 20]\n",
            "4 = [1, 2, 2, 2, 5, 4, 8, 10, 20]\n",
            "5 = [1, 2, 2, 2, 4, 5, 8, 10, 20]\n",
            "Iterasi ke- 5 :\n",
            "1 = [1, 2, 2, 2, 4, 5, 8, 10, 20]\n",
            "2 = [1, 2, 2, 2, 4, 5, 8, 10, 20]\n",
            "3 = [1, 2, 2, 2, 4, 5, 8, 10, 20]\n",
            "4 = [1, 2, 2, 2, 4, 5, 8, 10, 20]\n",
            "Iterasi ke- 6 :\n",
            "1 = [1, 2, 2, 2, 4, 5, 8, 10, 20]\n",
            "2 = [1, 2, 2, 2, 4, 5, 8, 10, 20]\n",
            "3 = [1, 2, 2, 2, 4, 5, 8, 10, 20]\n",
            "Iterasi ke- 7 :\n",
            "1 = [1, 2, 2, 2, 4, 5, 8, 10, 20]\n",
            "2 = [1, 2, 2, 2, 4, 5, 8, 10, 20]\n",
            "Iterasi ke- 8 :\n",
            "1 = [1, 2, 2, 2, 4, 5, 8, 10, 20]\n",
            "Iterasi ke- 9 :\n",
            "data terurut=  [1, 2, 2, 2, 4, 5, 8, 10, 20]\n"
          ]
        }
      ]
    },
    {
      "cell_type": "code",
      "source": [
        "# (b) Bubble Sort Modifikasi\n",
        "def modifiedBubbleSort(data):\n",
        "  iterasi = 0\n",
        "  n = len(data)\n",
        "  for i in range(n-1, 3, -1):\n",
        "    iterasi += 1\n",
        "    print('iterasi ke-',iterasi,'jumlah iterasi-',i)\n",
        "    for j in range(i):\n",
        "      if data[j] > data[j+1]:\n",
        "        data[j],data[j+1] = data[j+1],data[j]\n",
        "      print(j+1,'=',data)\n",
        "    n -= 1\n",
        "b = [10,2,5,8,1,20,2,2,4]\n",
        "modifiedBubbleSort(b)"
      ],
      "metadata": {
        "colab": {
          "base_uri": "https://localhost:8080/"
        },
        "id": "-6ZCVc-yDlhN",
        "outputId": "9b770cc0-aff0-4f51-820e-6ff4fd1574d0"
      },
      "execution_count": null,
      "outputs": [
        {
          "output_type": "stream",
          "name": "stdout",
          "text": [
            "iterasi ke- 1 jumlah iterasi- 8\n",
            "1 = [2, 10, 5, 8, 1, 20, 2, 2, 4]\n",
            "2 = [2, 5, 10, 8, 1, 20, 2, 2, 4]\n",
            "3 = [2, 5, 8, 10, 1, 20, 2, 2, 4]\n",
            "4 = [2, 5, 8, 1, 10, 20, 2, 2, 4]\n",
            "5 = [2, 5, 8, 1, 10, 20, 2, 2, 4]\n",
            "6 = [2, 5, 8, 1, 10, 2, 20, 2, 4]\n",
            "7 = [2, 5, 8, 1, 10, 2, 2, 20, 4]\n",
            "8 = [2, 5, 8, 1, 10, 2, 2, 4, 20]\n",
            "iterasi ke- 2 jumlah iterasi- 7\n",
            "1 = [2, 5, 8, 1, 10, 2, 2, 4, 20]\n",
            "2 = [2, 5, 8, 1, 10, 2, 2, 4, 20]\n",
            "3 = [2, 5, 1, 8, 10, 2, 2, 4, 20]\n",
            "4 = [2, 5, 1, 8, 10, 2, 2, 4, 20]\n",
            "5 = [2, 5, 1, 8, 2, 10, 2, 4, 20]\n",
            "6 = [2, 5, 1, 8, 2, 2, 10, 4, 20]\n",
            "7 = [2, 5, 1, 8, 2, 2, 4, 10, 20]\n",
            "iterasi ke- 3 jumlah iterasi- 6\n",
            "1 = [2, 5, 1, 8, 2, 2, 4, 10, 20]\n",
            "2 = [2, 1, 5, 8, 2, 2, 4, 10, 20]\n",
            "3 = [2, 1, 5, 8, 2, 2, 4, 10, 20]\n",
            "4 = [2, 1, 5, 2, 8, 2, 4, 10, 20]\n",
            "5 = [2, 1, 5, 2, 2, 8, 4, 10, 20]\n",
            "6 = [2, 1, 5, 2, 2, 4, 8, 10, 20]\n",
            "iterasi ke- 4 jumlah iterasi- 5\n",
            "1 = [1, 2, 5, 2, 2, 4, 8, 10, 20]\n",
            "2 = [1, 2, 5, 2, 2, 4, 8, 10, 20]\n",
            "3 = [1, 2, 2, 5, 2, 4, 8, 10, 20]\n",
            "4 = [1, 2, 2, 2, 5, 4, 8, 10, 20]\n",
            "5 = [1, 2, 2, 2, 4, 5, 8, 10, 20]\n",
            "iterasi ke- 5 jumlah iterasi- 4\n",
            "1 = [1, 2, 2, 2, 4, 5, 8, 10, 20]\n",
            "2 = [1, 2, 2, 2, 4, 5, 8, 10, 20]\n",
            "3 = [1, 2, 2, 2, 4, 5, 8, 10, 20]\n",
            "4 = [1, 2, 2, 2, 4, 5, 8, 10, 20]\n"
          ]
        }
      ]
    }
  ]
}